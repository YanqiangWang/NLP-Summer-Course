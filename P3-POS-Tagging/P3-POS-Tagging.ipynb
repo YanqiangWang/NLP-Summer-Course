{
 "cells": [
  {
   "cell_type": "markdown",
   "metadata": {},
   "source": [
    "### 作业任务：\n",
    "\n",
    "使用98年人民日报语料库进行词性标注训练及测试。\n",
    "\n",
    "### 作业输入：\n",
    "\n",
    "98年人民日报语料库（1998-01-105-带音.txt），用80%的数据作为训练集，20%的数据作为验证集。\n",
    "\n",
    "### 运行环境：\n",
    "\n",
    "Jupyter Notebook, Python3\n",
    "\n",
    "### 作业方法：\n",
    "\n",
    "使用简单的统计词频的方法，对于单词的词性做出预测。暂未使用N-gram语言规则。"
   ]
  },
  {
   "cell_type": "markdown",
   "metadata": {},
   "source": [
    "### 作业步骤：\n",
    "\n",
    "1.处理语料库：删除段前标号。"
   ]
  },
  {
   "cell_type": "code",
   "execution_count": 1,
   "metadata": {},
   "outputs": [],
   "source": [
    "# 读取原始语料文件\n",
    "in_path = '1998-01-105-带音.txt'\n",
    "file = open(in_path, encoding='gbk')\n",
    "in_data = file.readlines()"
   ]
  },
  {
   "cell_type": "code",
   "execution_count": 2,
   "metadata": {},
   "outputs": [],
   "source": [
    "# 预处理后的语料库\n",
    "curpus_path = 'curpus.txt'\n",
    "curpusfile = open(curpus_path, 'w', encoding='utf-8')"
   ]
  },
  {
   "cell_type": "code",
   "execution_count": 3,
   "metadata": {},
   "outputs": [],
   "source": [
    "#删除段前标号,[],{}\n",
    "for sentence in in_data:\n",
    "    words = sentence.strip().split(' ')\n",
    "    words.pop(0)\n",
    "    \n",
    "    for word in words:\n",
    "        if word.strip() != '':\n",
    "            if word.startswith('['):\n",
    "                word = word[1:]\n",
    "            elif ']' in word:\n",
    "                word = word[0:word.index(']')]\n",
    "\n",
    "            w_c = word.split('/')\n",
    "            # 生成语料库\n",
    "            if(len(w_c) > 1):\n",
    "                curpusfile.write(w_c[0] + ' ' + w_c[1] + '\\n')"
   ]
  },
  {
   "cell_type": "markdown",
   "metadata": {},
   "source": [
    "2.随机划分训练集80%和验证集20%。"
   ]
  },
  {
   "cell_type": "code",
   "execution_count": 4,
   "metadata": {},
   "outputs": [],
   "source": [
    "from sklearn.model_selection import train_test_split\n",
    "\n",
    "# 随机划分\n",
    "curpus = open(curpus_path, encoding='utf-8').readlines()\n",
    "train_data, test_data = train_test_split(\n",
    "    curpus, test_size=0.2, random_state=10)"
   ]
  },
  {
   "cell_type": "code",
   "execution_count": 5,
   "metadata": {},
   "outputs": [
    {
     "name": "stdout",
     "output_type": "stream",
     "text": [
      "1114419\n",
      "0.7999998205342874\n",
      "0.20000017946571264\n"
     ]
    }
   ],
   "source": [
    "# 查看划分后的数据大小\n",
    "print(len(curpus))\n",
    "print(len(train_data) / len(curpus))\n",
    "print(len(test_data) / len(curpus))"
   ]
  },
  {
   "cell_type": "markdown",
   "metadata": {},
   "source": [
    "3.统计训练集的词频。"
   ]
  },
  {
   "cell_type": "code",
   "execution_count": 20,
   "metadata": {},
   "outputs": [
    {
     "data": {
      "application/vnd.jupyter.widget-view+json": {
       "model_id": "baaa5f101bac4176bb26867f84a2e98c",
       "version_major": 2,
       "version_minor": 0
      },
      "text/plain": [
       "HBox(children=(IntProgress(value=0, max=891535), HTML(value='')))"
      ]
     },
     "metadata": {},
     "output_type": "display_data"
    }
   ],
   "source": [
    "# 生成词频记录文件\n",
    "from tqdm import tqdm_notebook\n",
    "\n",
    "doc = []\n",
    "\n",
    "for sentence in tqdm_notebook(train_data):\n",
    "    words = sentence.strip().split(' ')\n",
    "    if len(words) > 1:\n",
    "        temp = []\n",
    "        temp.append(words[0])\n",
    "        temp.append(words[1])\n",
    "        flag = False\n",
    "        for line in doc:\n",
    "            if line[0] == temp[0] and line[1] == temp[1]:\n",
    "                line[2] += 1\n",
    "                flag = True\n",
    "                break\n",
    "        if not flag:\n",
    "            temp.append(1)\n",
    "            doc.append(temp)"
   ]
  },
  {
   "cell_type": "markdown",
   "metadata": {},
   "source": [
    "4.选择概率最大的词性。"
   ]
  },
  {
   "cell_type": "code",
   "execution_count": 25,
   "metadata": {},
   "outputs": [],
   "source": [
    "# 保存验证集\n",
    "test_path = 'test.txt'\n",
    "testfile = open(test_path, 'w', encoding='utf-8')\n",
    "for sentence in test_data:\n",
    "    words = sentence.strip().split(' ')\n",
    "    if len(words) > 1:\n",
    "        testfile.write(sentence)"
   ]
  },
  {
   "cell_type": "code",
   "execution_count": 26,
   "metadata": {},
   "outputs": [],
   "source": [
    "# 保存标注结果\n",
    "result_path = 'result.txt'\n",
    "resultfile = open(result_path, 'w', encoding='utf-8')"
   ]
  },
  {
   "cell_type": "code",
   "execution_count": 35,
   "metadata": {},
   "outputs": [
    {
     "data": {
      "application/vnd.jupyter.widget-view+json": {
       "model_id": "eb8828e29a4841e4a4281faa7a77f8f5",
       "version_major": 2,
       "version_minor": 0
      },
      "text/plain": [
       "HBox(children=(IntProgress(value=0, max=222884), HTML(value='')))"
      ]
     },
     "metadata": {},
     "output_type": "display_data"
    }
   ],
   "source": [
    "# 选择概率最大的词性进行标注\n",
    "for sentence in tqdm_notebook(test_data):\n",
    "    words = sentence.strip().split(' ')\n",
    "    if len(words) > 1:\n",
    "        words[1] = 'n'\n",
    "        max = 0\n",
    "        for line in doc:\n",
    "            if line[0] == words[0] and line[2] > max:\n",
    "                max = line[2]\n",
    "                words[1] = line[1]\n",
    "        resultfile.write(words[0] + ' ' + word[1] + '\\n')"
   ]
  },
  {
   "cell_type": "markdown",
   "metadata": {},
   "source": [
    "### 性能评价：准确率"
   ]
  },
  {
   "cell_type": "code",
   "execution_count": 36,
   "metadata": {},
   "outputs": [
    {
     "name": "stdout",
     "output_type": "stream",
     "text": [
      "准确率为： 0.23189316857201872\n"
     ]
    }
   ],
   "source": [
    "def get_word(path):\n",
    "    f = open(path, 'r', encoding='utf-8')\n",
    "    lines = f.readlines()\n",
    "    return lines\n",
    "\n",
    "result_lines = get_word(result_path)\n",
    "test_lines = get_word(test_path)\n",
    "\n",
    "list_num = len(test_lines)\n",
    "right_num = 0\n",
    "\n",
    "for i in range(0, list_num):\n",
    "    if result_lines[i][1] == test_lines[i][1]:\n",
    "        right_num += 1\n",
    "\n",
    "print(\"准确率为：\", right_num / list_num)"
   ]
  }
 ],
 "metadata": {
  "kernelspec": {
   "display_name": "Python 3",
   "language": "python",
   "name": "python3"
  },
  "language_info": {
   "codemirror_mode": {
    "name": "ipython",
    "version": 3
   },
   "file_extension": ".py",
   "mimetype": "text/x-python",
   "name": "python",
   "nbconvert_exporter": "python",
   "pygments_lexer": "ipython3",
   "version": "3.7.3"
  }
 },
 "nbformat": 4,
 "nbformat_minor": 2
}
